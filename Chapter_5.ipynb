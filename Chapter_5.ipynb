{
 "cells": [
  {
   "cell_type": "markdown",
   "metadata": {},
   "source": [
    "# Introduction to Machine Learning Interviews"
   ]
  },
  {
   "cell_type": "code",
   "execution_count": 4,
   "metadata": {},
   "outputs": [],
   "source": [
    "# Import packages\n",
    "import numpy as np\n",
    "import matplotlib.pyplot as plt"
   ]
  },
  {
   "cell_type": "markdown",
   "metadata": {
    "vscode": {
     "languageId": "plaintext"
    }
   },
   "source": [
    "## Chapter 5: Math"
   ]
  },
  {
   "cell_type": "markdown",
   "metadata": {},
   "source": [
    "### Chapter 5.1: Algebra and (little) calculus"
   ]
  },
  {
   "cell_type": "markdown",
   "metadata": {
    "vscode": {
     "languageId": "plaintext"
    }
   },
   "source": [
    "#### Chapter 5.1.1: Vectors"
   ]
  },
  {
   "cell_type": "code",
   "execution_count": null,
   "metadata": {},
   "outputs": [
    {
     "name": "stdout",
     "output_type": "stream",
     "text": [
      "The dot product between vector a = [1, 2] and [-4, 1] is equal to -2\n"
     ]
    },
    {
     "data": {
      "image/png": "[encoded data removed]",
      "text/plain": [
       "<Figure size 640x480 with 1 Axes>"
      ]
     },
     "metadata": {},
     "output_type": "display_data"
    }
   ],
   "source": [
    "##### Question 1\n",
    "# What's the geometric interpretation of the dot product of two vectors?\n",
    "#\n",
    "#   The projection of one vector onto the direction of the other vector multiplied by the length of the second vector.\n",
    "#   # Assume two vectors a = [1, 2] and b[-4, -1], then the dot product is:\n",
    "a = [1, 2]\n",
    "b = [-4, 1]\n",
    "c = np.dot(a, b)\n",
    "print(\"The dot product between vector a =\", a, \"and\", b, \"is equal to\", c)\n",
    "\n",
    "plt.arrow(0, 0, a[0], a[1], width=0.02, color=\"blue\")\n",
    "plt.text(a[0]-0.2, a[1], \"a\", color=\"blue\")\n",
    "plt.arrow(0, 0, b[0], b[1], width=0.02, color=\"green\")\n",
    "plt.text(b[0]-0.2, b[1], \"b\", color=\"green\")\n",
    "plt.arrow(0, 0, a[0]*c, a[1]*c, width=0.02, color=\"red\", alpha=0.5)\n",
    "plt.text(a[0]*c-0.2, a[1]*c, \"c\", color=\"red\")\n",
    "plt.grid()"
   ]
  },
  {
   "cell_type": "markdown",
   "metadata": {},
   "source": [
    "##### Question 2\n",
    "Given a vector u, find vector v of unit length such that the dot product of u and v is maximum.\n",
    " \n",
    "A vector with unit length is given by: v = v / |v|.\n",
    "\n",
    "The dot product is given by: u * v = |u| * |v| * cos(u, v).\n",
    "\n",
    "Hence to maximize the dot product, the vectors must be in the same direction because that's when cosine is largest (1). In other words,\n",
    "\n",
    "u * v = |u| * |v| * cos(u, v) => v = u / |u|\n",
    "\n",
    "Below various variations of v are plotted together with their dot product with u.   "
   ]
  },
  {
   "cell_type": "code",
   "execution_count": 1,
   "metadata": {},
   "outputs": [
    {
     "ename": "NameError",
     "evalue": "name 'np' is not defined",
     "output_type": "error",
     "traceback": [
      "\u001b[1;31m---------------------------------------------------------------------------\u001b[0m",
      "\u001b[1;31mNameError\u001b[0m                                 Traceback (most recent call last)",
      "Cell \u001b[1;32mIn[1], line 10\u001b[0m\n\u001b[0;32m      7\u001b[0m u \u001b[38;5;241m=\u001b[39m [\u001b[38;5;241m1\u001b[39m, \u001b[38;5;241m1\u001b[39m]\n\u001b[0;32m      9\u001b[0m v1 \u001b[38;5;241m=\u001b[39m [\u001b[38;5;241m2\u001b[39m, \u001b[38;5;241m1\u001b[39m]\n\u001b[1;32m---> 10\u001b[0m v1 \u001b[38;5;241m=\u001b[39m v1 \u001b[38;5;241m/\u001b[39m \u001b[43mnp\u001b[49m\u001b[38;5;241m.\u001b[39msqrt(np\u001b[38;5;241m.\u001b[39msum(v1[\u001b[38;5;241m0\u001b[39m]\u001b[38;5;241m*\u001b[39m\u001b[38;5;241m*\u001b[39m\u001b[38;5;241m2\u001b[39m \u001b[38;5;241m+\u001b[39m v1[\u001b[38;5;241m1\u001b[39m]\u001b[38;5;241m*\u001b[39m\u001b[38;5;241m*\u001b[39m\u001b[38;5;241m2\u001b[39m))\n\u001b[0;32m     11\u001b[0m d1 \u001b[38;5;241m=\u001b[39m \u001b[38;5;28mround\u001b[39m(np\u001b[38;5;241m.\u001b[39mdot(u, v1), \u001b[38;5;241m2\u001b[39m)\n\u001b[0;32m     13\u001b[0m v2 \u001b[38;5;241m=\u001b[39m [\u001b[38;5;241m-\u001b[39m\u001b[38;5;241m1\u001b[39m, \u001b[38;5;241m3\u001b[39m]\n",
      "\u001b[1;31mNameError\u001b[0m: name 'np' is not defined"
     ]
    }
   ],
   "source": [
    "# . \n",
    "\n",
    "u = [1, 1]\n",
    "\n",
    "v1 = [2, 1]\n",
    "v1 = v1 / np.sqrt(np.sum(v1[0]**2 + v1[1]**2))\n",
    "d1 = round(np.dot(u, v1), 2)\n",
    "\n",
    "v2 = [-1, 3]\n",
    "v2 = v2 / np.sqrt(np.sum(v2[0]**2 + v2[1]**2))\n",
    "d2 = round(np.dot(u, v2), 2)\n",
    "\n",
    "v3 = [1, 1]\n",
    "v3 = v3 / np.sqrt(np.sum(v3[0]**2 + v3[1]**2))\n",
    "d3 = round(np.dot(u, v3), 2)\n",
    "\n",
    "v4 = [-1, -5]\n",
    "v4 = v4 / np.sqrt(np.sum(v4[0]**2 + v4[1]**2))\n",
    "d4 = round(np.dot(u, v4), 2)\n",
    "\n",
    "plt.arrow(0, 0, u[0], u[1], width=0.002, color=\"blue\")\n",
    "plt.text(u[0]-0.05, u[1], \"a\", color=\"blue\")\n",
    "\n",
    "plt.arrow(0, 0, v1[0], v1[1], width=0.002, color=\"green\")\n",
    "plt.text(v1[0]-0.05, v1[1], \"v1\", color=\"green\")\n",
    "plt.text(v1[0]+0.05, v1[1], str(d1), color=\"green\")\n",
    "\n",
    "plt.arrow(0, 0, v2[0], v2[1], width=0.002, color=\"green\")\n",
    "plt.text(v2[0]-0.05, v2[1], \"v2\", color=\"green\")\n",
    "plt.text(v2[0]+0.05, v2[1], str(d2), color=\"green\")\n",
    "\n",
    "plt.arrow(0, 0, v3[0], v3[1], width=0.002, color=\"green\")\n",
    "plt.text(v3[0]-0.05, v3[1], \"v3\", color=\"green\")\n",
    "plt.text(v3[0]+0.05, v3[1], str(d3), color=\"green\")\n",
    "\n",
    "plt.arrow(0, 0, v4[0], v4[1], width=0.002, color=\"green\")\n",
    "plt.text(v4[0]-0.05, v4[1], \"v3\", color=\"green\")\n",
    "plt.text(v4[0]+0.05, v4[1], str(d4), color=\"green\")\n",
    "\n",
    "plt.grid()"
   ]
  },
  {
   "cell_type": "markdown",
   "metadata": {},
   "source": [
    "##### Outer product (5.1.1.2)"
   ]
  },
  {
   "cell_type": "code",
   "execution_count": 92,
   "metadata": {},
   "outputs": [
    {
     "name": "stdout",
     "output_type": "stream",
     "text": [
      "The outer product between a = [3 2 1] and b= [-1  0  1] is given by\n",
      " [[-3  0  3]\n",
      " [-2  0  2]\n",
      " [-1  0  1]]\n"
     ]
    }
   ],
   "source": [
    "#   i.  Given two vectors, a = [3,2,1] and b = [-1, 0, 1]. Calculate the outer product a'b.\n",
    "a = np.array([3,2,1])\n",
    "b = np.array([-1,0,1])\n",
    "print(\"The outer product between a =\", a, \"and b=\", b, \"is given by\\n\", a.reshape(-1, 1) @ b.reshape(1, -1))"
   ]
  },
  {
   "cell_type": "code",
   "execution_count": null,
   "metadata": {},
   "outputs": [],
   "source": []
  },
  {
   "cell_type": "markdown",
   "metadata": {},
   "source": [
    "### Chapter 5.2: Proability and statistics"
   ]
  },
  {
   "cell_type": "markdown",
   "metadata": {},
   "source": [
    "#### Chapter 5.2.1: Probability"
   ]
  },
  {
   "cell_type": "markdown",
   "metadata": {},
   "source": [
    "Problem 1\n",
    "\n",
    "Given a uniform random variable in the range of [0, 1] inclusively. What's the probability that X = 0.5?\n",
    "\n",
    "P(X = 0.5) = 1/(b-a) = 1/(1-0) = 1"
   ]
  },
  {
   "cell_type": "markdown",
   "metadata": {},
   "source": [
    "##### Problem 2\n",
    "Can the values of PDF be grater than 1? If so, how do we interpret PDF?\n",
    "\n",
    "Yes, it can be greater than 1. The PDF is a function whose value at any point in the sample space provides a relative likelihood that the value of the random variable would be equal to the point.\n",
    "\n",
    "By integrating over the PDF, we get the probability over the range over which we integrate."
   ]
  },
  {
   "cell_type": "markdown",
   "metadata": {},
   "source": [
    "##### Problem 3\n",
    "What's the difference between multivariate distribution and multimodal distribution?\n",
    "\n",
    "A *multivariate* distribution models the relationship between multiple variables.\n",
    "\n",
    "A *multimodal* distribution is a distribution with more than one mode. The mode is the value that appears most often in a set of data points."
   ]
  },
  {
   "cell_type": "markdown",
   "metadata": {},
   "source": [
    "##### Problem 4\n",
    "What does it mean for two variables to be independent?\n",
    "    \n",
    "The joint probability P(X ∩ Y) = P(X) * P(Y).\n",
    "\n",
    "It also means that the correlation between X and Y is zero for arbitrary functions g and h:\n",
    "\n",
    "cor(g(x), h(y)) = 0 for arbitrary functions g, h."
   ]
  },
  {
   "cell_type": "markdown",
   "metadata": {},
   "source": [
    "##### Problem 5\n",
    "It's a common practice to assume an unknown variable to be of the normal distribution. Why is that?\n",
    "\n",
    "1) The _Central Limit Theorem_ states that the sampling distribution of sample means is asymptotically normally distributed. If we have a sample of _n_ independent observations from a population: X1, X2, ..., Xn, then as _n_ goes to infinity, L ~ N(0, 1) where L = (X_hat - mu)/s_X and s_X = s / sqrt(nn).\n",
    "\n",
    "\n",
    "2) The normal distribution has nice properties, including: defined by just two parameters (mean and variance), symmetric, and the fact that the sum of more normally distributed variables is itself a normally distributed variable."
   ]
  },
  {
   "cell_type": "markdown",
   "metadata": {},
   "source": [
    "##### Problem 6\n",
    "How would you turn a probabilistic model into a deterministic model?"
   ]
  },
  {
   "cell_type": "markdown",
   "metadata": {},
   "source": [
    "##### Problem 7\n",
    "Is it possible to transform non-normal variables into normal variables? How?\n",
    "\n",
    "Yes.\n",
    "\n",
    "An example is a log-normally distributed variable. If Y ~ N(mu, s) then X = exp(Y) ~ LN(mu, s2).\n",
    "\n",
    "E(X) = exp(mu + s^2/2)\n",
    "\n",
    "Var(X) = (exp(s^2) - 1)*exp(2*mu + s^\")"
   ]
  },
  {
   "cell_type": "markdown",
   "metadata": {},
   "source": [
    "##### Problem 8\n",
    "When is the t-distribution useful?\n",
    "\n",
    "1) The t-distribution is useful for modeling a continuous random variable similar to a normally distributed variable, but with wider tails. The parameter, df, controls the degree of kurtosis.\n",
    "\n",
    "2) The test statistic for testing whether the mean has a value specified in the null hypothesis follows a t-distribution: t = (x_hat - mu)/s * sqrt(n) ~ TDist(n-1)"
   ]
  },
  {
   "cell_type": "markdown",
   "metadata": {},
   "source": [
    "##### Problem 9\n",
    "Assume you manage an unreliable file storage system that crashed 5 times in the last year, each crash happens independently.\n",
    "\n",
    "1) What's the probability that it will crash in the next month?\n",
    "\n",
    "There were 5 crashes in 12 months, translating into 5/12 crashes per month: P(crash in month m) = 5/12 = = 0.4166667.\n",
    "\n",
    "2) What's the probability that it will crash at any given moment?"
   ]
  },
  {
   "cell_type": "markdown",
   "metadata": {},
   "source": [
    "##### Problem 10\n",
    "Say you built a classifier to predict the outcome of football matches. In the past, it's made 10 wrong predictions out of 100. Assume all predictions are made independently. What's the probability that the next 20 predictions are all correct?\n",
    "\n",
    "P(x = wrong) = 10/100 = 0.1\n",
    "\n",
    "P(x = correct) = 1 - P(x = wrong) = 1 - 0.1 = 0.9\n",
    "\n",
    "P(x = 20 correct) 0.9^20"
   ]
  },
  {
   "cell_type": "markdown",
   "metadata": {},
   "source": [
    "##### Problem 11\n"
   ]
  },
  {
   "cell_type": "markdown",
   "metadata": {},
   "source": [
    "##### Problem 12\n"
   ]
  },
  {
   "cell_type": "code",
   "execution_count": null,
   "metadata": {},
   "outputs": [],
   "source": []
  }
 ],
 "metadata": {
  "kernelspec": {
   "display_name": "venv",
   "language": "python",
   "name": "python3"
  },
  "language_info": {
   "codemirror_mode": {
    "name": "ipython",
    "version": 3
   },
   "file_extension": ".py",
   "mimetype": "text/x-python",
   "name": "python",
   "nbconvert_exporter": "python",
   "pygments_lexer": "ipython3",
   "version": "3.12.4"
  }
 },
 "nbformat": 4,
 "nbformat_minor": 2
}
